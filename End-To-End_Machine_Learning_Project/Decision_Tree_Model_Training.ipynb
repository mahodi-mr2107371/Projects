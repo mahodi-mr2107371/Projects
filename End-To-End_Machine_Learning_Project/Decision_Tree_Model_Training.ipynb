{
 "cells": [
  {
   "cell_type": "code",
   "execution_count": null,
   "metadata": {},
   "outputs": [],
   "source": [
    "# Imports\n",
    "import pandas as pd\n",
    "from sklearn.model_selection import train_test_split\n",
    "from sklearn.tree import DecisionTreeClassifier\n",
    "from sklearn.metrics import classification_report, accuracy_score\n",
    "import matplotlib.pyplot as plt\n",
    "from sklearn.tree import plot_tree\n",
    "\n",
    "# Load the processed data\n",
    "data = pd.read_csv(\"processed_influenza_data.csv\")  # Make sure the CSV file name matches your output file name\n",
    "\n",
    "# Define features and target variable\n",
    "features = ['ISO_YEAR', 'ISO_WEEK', 'SPEC_RECEIVED_NB', 'SPEC_PROCESSED_NB', 'AH1', 'AH3', 'INF_ALL']  # adjust based on your relevant features\n",
    "target = 'INF_ALL'  # adjust this if your target variable is different\n",
    "\n",
    "# Prepare the data for training\n",
    "X = data[features]\n",
    "y = data[target]\n",
    "X_train, X_test, y_train, y_test = train_test_split(X, y, test_size=0.3, random_state=42, stratify=y)\n",
    "\n",
    "# Initialize and train the Decision Tree Classifier\n",
    "dt_classifier = DecisionTreeClassifier(max_depth=5)\n",
    "dt_classifier.fit(X_train, y_train)\n",
    "\n",
    "# Predictions\n",
    "y_pred = dt_classifier.predict(X_test)\n",
    "\n",
    "# Evaluation\n",
    "accuracy = accuracy_score(y_test, y_pred)\n",
    "report = classification_report(y_test, y_pred)\n",
    "print(\"Accuracy of the model:\", accuracy)\n",
    "print(\"Classification Report:\\n\", report)\n",
    "\n",
    "# Plot the tree\n",
    "plt.figure(figsize=(20,10))\n",
    "plot_tree(dt_classifier, filled=True, feature_names=features, class_names=str(dt_classifier.classes_))\n",
    "plt.title('Decision Tree for Influenza Data')\n",
    "plt.show()\n"
   ]
  }
 ],
 "metadata": {
  "language_info": {
   "name": "python"
  }
 },
 "nbformat": 4,
 "nbformat_minor": 2
}
